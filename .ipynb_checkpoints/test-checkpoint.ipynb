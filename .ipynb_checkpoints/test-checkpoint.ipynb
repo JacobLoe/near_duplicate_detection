{
 "cells": [
  {
   "cell_type": "code",
   "execution_count": 1,
   "metadata": {},
   "outputs": [
    {
     "data": {
      "text/html": [
       "<style>.container { width:100% !important; }</style>"
      ],
      "text/plain": [
       "<IPython.core.display.HTML object>"
      ]
     },
     "metadata": {},
     "output_type": "display_data"
    }
   ],
   "source": [
    "from IPython.core.display import display, HTML\n",
    "display(HTML(\"<style>.container { width:100% !important; }</style>\"))"
   ]
  },
  {
   "cell_type": "code",
   "execution_count": 2,
   "metadata": {},
   "outputs": [
    {
     "name": "stderr",
     "output_type": "stream",
     "text": [
      "Using TensorFlow backend.\n"
     ]
    }
   ],
   "source": [
    "from keras.applications.vgg16 import VGG16\n",
    "from keras.preprocessing import image\n",
    "from keras.applications.vgg16 import preprocess_input\n",
    "import numpy as np"
   ]
  },
  {
   "cell_type": "code",
   "execution_count": 3,
   "metadata": {},
   "outputs": [],
   "source": [
    "import cv2\n",
    "import numpy as np\n",
    "import argparse\n",
    "import zipfile\n",
    "from tqdm import tqdm\n",
    "import os\n",
    "import xmltodict"
   ]
  },
  {
   "cell_type": "code",
   "execution_count": 4,
   "metadata": {},
   "outputs": [],
   "source": [
    "#read video file frame by frame, beginning and ending with a timestamp\n",
    "def read_video_segments(video_path,start_ms,end_ms,i):\n",
    "    vid = cv2.VideoCapture(video_path)\n",
    "    fps = vid.get(cv2.CAP_PROP_FPS)\n",
    "    start_frame=int((start_ms/1000.0)*fps)\n",
    "    end_frame=int((end_ms/1000.0)*fps)\n",
    "    vid_length=0\n",
    "    with tqdm(total=end_frame-start_frame+1) as pbar: #init the progressbar,with max length of the given segment\n",
    "        vid.set(cv2.CAP_PROP_POS_FRAMES,start_frame)\n",
    "        while(vid.isOpened()):\n",
    "            ret, frame = vid.read() # if ret is false, frame has no content\n",
    "            if (vid_length+start_frame)==end_frame:\n",
    "                pbar.update(1)\n",
    "                break\n",
    "            path='../test_frames/'\n",
    "            name=str(i)+'__'+str(start_frame+vid_length)+'.png'\n",
    "            cv2.imwrite(path+name,frame)\n",
    "            pbar.update(1) #update the progressbar\n",
    "            vid_length+=1 #increase the vid_length counter"
   ]
  },
  {
   "cell_type": "code",
   "execution_count": 5,
   "metadata": {},
   "outputs": [],
   "source": [
    "def get_shots(azp):\n",
    "    zip_ref = zipfile.ZipFile(azp)\n",
    "    inxmlstr = zip_ref.read('content.xml')\n",
    "    doc = xmltodict.parse(inxmlstr)\n",
    "    shots = []\n",
    "    for a in doc['package']['annotations']['annotation']:\n",
    "        if a['@type'] == '#Shot':\n",
    "            begin_ms = int(a['millisecond-fragment']['@begin'])\n",
    "            end_ms = int(a['millisecond-fragment']['@end'])\n",
    "\n",
    "            shots.append((begin_ms, end_ms))\n",
    "    return sorted(shots)"
   ]
  },
  {
   "cell_type": "code",
   "execution_count": 143,
   "metadata": {},
   "outputs": [],
   "source": [
    "# with open('test.txt','w') as f:\n",
    "#     print('asf',file=f)"
   ]
  },
  {
   "cell_type": "code",
   "execution_count": 160,
   "metadata": {},
   "outputs": [
    {
     "name": "stdout",
     "output_type": "stream",
     "text": [
      "True\n",
      "David_Ed_Where_Do_We_Go_From_Here\n",
      "True\n",
      "Her_bluray_Szene 11_25fps\n",
      "True\n",
      "Maltsev_Sem_Occupy_Wall_Street\n"
     ]
    }
   ],
   "source": [
    "videos_path='videos/'\n",
    "features_path='features_videos/'\n",
    "\n",
    "for entry in os.listdir(features_path):\n",
    "    if not os.path.isdir(features_path+entry):\n",
    "        \n",
    "#         print(True)\n",
    "    print(entry)"
   ]
  },
  {
   "cell_type": "code",
   "execution_count": 148,
   "metadata": {},
   "outputs": [],
   "source": [
    "import xml.etree.ElementTree as ET\n",
    "def read_shotdetect_xml(path):\n",
    "    tree = ET.parse(path)\n",
    "    root=tree.getroot().findall('content')\n",
    "    info={}\n",
    "    timestamps=[]\n",
    "    for child in root[0].iter():\n",
    "    #     if child.tag == 'media':\n",
    "    #         for grandchild in child.iter():\n",
    "    #             if grandchild.tag == 'fps':\n",
    "    #                 info['fps']=float(grandchild.text)\n",
    "    #             if grandchild.tag == 'height':\n",
    "    #                 info['resolution']=[int(grandchild.text)]\n",
    "    #             if grandchild.tag == 'width':\n",
    "    #                 info['resolution'].append(int(grandchild.text))\n",
    "        if child.tag == 'shot':\n",
    "            items=child.items()\n",
    "            timestamps.append((int(items[4][1]),int(items[4][1])+int(items[2][1])-1))\n",
    "    #         break\n",
    "    return timestamps#,info"
   ]
  },
  {
   "cell_type": "code",
   "execution_count": 149,
   "metadata": {
    "collapsed": true
   },
   "outputs": [
    {
     "data": {
      "text/plain": [
       "[(0, 290),\n",
       " (291, 4373),\n",
       " (4375, 9374),\n",
       " (9375, 15915),\n",
       " (15916, 20373),\n",
       " (20375, 25249),\n",
       " (25250, 31249),\n",
       " (31250, 37124),\n",
       " (37125, 40624),\n",
       " (40625, 43082),\n",
       " (43083, 45290),\n",
       " (45291, 47165),\n",
       " (47166, 49040),\n",
       " (49041, 51706),\n",
       " (51708, 58123),\n",
       " (58125, 74374),\n",
       " (74375, 79374),\n",
       " (79375, 79582),\n",
       " (79583, 89040),\n",
       " (89041, 101206),\n",
       " (101208, 103998),\n",
       " (104000, 108999),\n",
       " (109000, 111582),\n",
       " (111583, 111623),\n",
       " (111625, 114040),\n",
       " (114041, 116331),\n",
       " (116333, 118082),\n",
       " (118083, 119498),\n",
       " (119500, 121457),\n",
       " (121458, 121498),\n",
       " (121500, 124749),\n",
       " (124750, 128040),\n",
       " (128041, 133081),\n",
       " (133083, 137165),\n",
       " (137166, 137206),\n",
       " (137208, 169998),\n",
       " (170000, 174040),\n",
       " (174041, 176706),\n",
       " (176708, 179498),\n",
       " (179500, 180915),\n",
       " (180916, 182331),\n",
       " (182333, 183457),\n",
       " (183458, 185873),\n",
       " (185875, 191499)]"
      ]
     },
     "execution_count": 149,
     "metadata": {},
     "output_type": "execute_result"
    }
   ],
   "source": [
    "read_shotdetect_xml('tests/shot_detect4/result.xml')"
   ]
  },
  {
   "cell_type": "code",
   "execution_count": 45,
   "metadata": {},
   "outputs": [
    {
     "ename": "ExpatError",
     "evalue": "not well-formed (invalid token): line 1, column 5",
     "output_type": "error",
     "traceback": [
      "\u001b[0;31m---------------------------------------------------------------------------\u001b[0m",
      "\u001b[0;31mExpatError\u001b[0m                                Traceback (most recent call last)",
      "\u001b[0;32m<ipython-input-45-0c082fcb1785>\u001b[0m in \u001b[0;36m<module>\u001b[0;34m()\u001b[0m\n\u001b[0;32m----> 1\u001b[0;31m \u001b[0mxmltodict\u001b[0m\u001b[0;34m.\u001b[0m\u001b[0mparse\u001b[0m\u001b[0;34m(\u001b[0m\u001b[0;34m'tests/shot_detect/result.xml'\u001b[0m\u001b[0;34m,\u001b[0m\u001b[0mencoding\u001b[0m\u001b[0;34m=\u001b[0m\u001b[0;34m'ISO-8859-1'\u001b[0m\u001b[0;34m)\u001b[0m\u001b[0;34m\u001b[0m\u001b[0;34m\u001b[0m\u001b[0m\n\u001b[0m",
      "\u001b[0;32m/home/jacob/.local/lib/python3.6/site-packages/xmltodict.py\u001b[0m in \u001b[0;36mparse\u001b[0;34m(xml_input, encoding, expat, process_namespaces, namespace_separator, disable_entities, **kwargs)\u001b[0m\n\u001b[1;32m    325\u001b[0m         \u001b[0mparser\u001b[0m\u001b[0;34m.\u001b[0m\u001b[0mParseFile\u001b[0m\u001b[0;34m(\u001b[0m\u001b[0mxml_input\u001b[0m\u001b[0;34m)\u001b[0m\u001b[0;34m\u001b[0m\u001b[0;34m\u001b[0m\u001b[0m\n\u001b[1;32m    326\u001b[0m     \u001b[0;32melse\u001b[0m\u001b[0;34m:\u001b[0m\u001b[0;34m\u001b[0m\u001b[0;34m\u001b[0m\u001b[0m\n\u001b[0;32m--> 327\u001b[0;31m         \u001b[0mparser\u001b[0m\u001b[0;34m.\u001b[0m\u001b[0mParse\u001b[0m\u001b[0;34m(\u001b[0m\u001b[0mxml_input\u001b[0m\u001b[0;34m,\u001b[0m \u001b[0;32mTrue\u001b[0m\u001b[0;34m)\u001b[0m\u001b[0;34m\u001b[0m\u001b[0;34m\u001b[0m\u001b[0m\n\u001b[0m\u001b[1;32m    328\u001b[0m     \u001b[0;32mreturn\u001b[0m \u001b[0mhandler\u001b[0m\u001b[0;34m.\u001b[0m\u001b[0mitem\u001b[0m\u001b[0;34m\u001b[0m\u001b[0;34m\u001b[0m\u001b[0m\n\u001b[1;32m    329\u001b[0m \u001b[0;34m\u001b[0m\u001b[0m\n",
      "\u001b[0;31mExpatError\u001b[0m: not well-formed (invalid token): line 1, column 5"
     ]
    }
   ],
   "source": [
    "xmltodict.parse('tests/shot_detect/result.xml',encoding='ISO-8859-1')"
   ]
  },
  {
   "cell_type": "code",
   "execution_count": 12,
   "metadata": {},
   "outputs": [],
   "source": [
    "shots=get_shots('azp/CompanyMen_v1.0-split-012-Bobby_being_angry.azp')"
   ]
  },
  {
   "cell_type": "code",
   "execution_count": 13,
   "metadata": {},
   "outputs": [],
   "source": [
    "# for i,(begin,end) in enumerate(shots):\n",
    "#     read_video_segments('../Wells_John_CompanyMen_full.mp4',begin,end,i)"
   ]
  },
  {
   "cell_type": "code",
   "execution_count": null,
   "metadata": {},
   "outputs": [],
   "source": [
    "min(all_distances['distance'])"
   ]
  },
  {
   "cell_type": "code",
   "execution_count": null,
   "metadata": {},
   "outputs": [],
   "source": [
    "all_distances['distance'][np.argmin(all_distances['distance'])]"
   ]
  },
  {
   "cell_type": "code",
   "execution_count": null,
   "metadata": {},
   "outputs": [],
   "source": [
    "NASNetMobile_model = NASNetLarge(weights='imagenet', include_top=False,pooling='max',input_shape=(331,331,3))  "
   ]
  },
  {
   "cell_type": "code",
   "execution_count": null,
   "metadata": {},
   "outputs": [],
   "source": [
    "vgg_model = VGG16(weights='imagenet', include_top=False,pooling='max')"
   ]
  },
  {
   "cell_type": "code",
   "execution_count": null,
   "metadata": {},
   "outputs": [],
   "source": [
    "img_path = 'comparison_4.png'\n",
    "img = image.load_img(img_path, target_size=(224, 224))\n",
    "x = image.img_to_array(img)"
   ]
  },
  {
   "cell_type": "code",
   "execution_count": null,
   "metadata": {},
   "outputs": [],
   "source": [
    "x = np.expand_dims(x, axis=0)\n",
    "x = preprocess_input(x)\n",
    "\n",
    "features = vgg_model.predict(x)\n",
    "print(np.shape(features))"
   ]
  },
  {
   "cell_type": "code",
   "execution_count": null,
   "metadata": {},
   "outputs": [],
   "source": [
    "from scipy.spatial.distance import euclidean"
   ]
  },
  {
   "cell_type": "code",
   "execution_count": null,
   "metadata": {},
   "outputs": [],
   "source": [
    "euclidean(features,features)"
   ]
  }
 ],
 "metadata": {
  "kernelspec": {
   "display_name": "Python 3",
   "language": "python",
   "name": "python3"
  },
  "language_info": {
   "codemirror_mode": {
    "name": "ipython",
    "version": 3
   },
   "file_extension": ".py",
   "mimetype": "text/x-python",
   "name": "python",
   "nbconvert_exporter": "python",
   "pygments_lexer": "ipython3",
   "version": "3.6.7"
  }
 },
 "nbformat": 4,
 "nbformat_minor": 2
}
