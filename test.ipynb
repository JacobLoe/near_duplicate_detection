{
 "cells": [
  {
   "cell_type": "code",
   "execution_count": 1,
   "metadata": {},
   "outputs": [
    {
     "data": {
      "text/html": [
       "<style>.container { width:100% !important; }</style>"
      ],
      "text/plain": [
       "<IPython.core.display.HTML object>"
      ]
     },
     "metadata": {},
     "output_type": "display_data"
    }
   ],
   "source": [
    "from IPython.core.display import display, HTML\n",
    "display(HTML(\"<style>.container { width:100% !important; }</style>\"))"
   ]
  },
  {
   "cell_type": "code",
   "execution_count": 2,
   "metadata": {},
   "outputs": [
    {
     "name": "stderr",
     "output_type": "stream",
     "text": [
      "Using TensorFlow backend.\n"
     ]
    }
   ],
   "source": [
    "from keras.applications.vgg16 import VGG16\n",
    "from keras.preprocessing import image\n",
    "from keras.applications.vgg16 import preprocess_input\n",
    "import numpy as np"
   ]
  },
  {
   "cell_type": "code",
   "execution_count": 3,
   "metadata": {},
   "outputs": [],
   "source": [
    "import cv2\n",
    "import numpy as np\n",
    "import argparse\n",
    "import zipfile\n",
    "from tqdm import tqdm\n",
    "import os\n",
    "import xmltodict"
   ]
  },
  {
   "cell_type": "code",
   "execution_count": 4,
   "metadata": {},
   "outputs": [],
   "source": [
    "# from keras.applications.resnet import ResNet50"
   ]
  },
  {
   "cell_type": "code",
   "execution_count": 5,
   "metadata": {},
   "outputs": [],
   "source": [
    "#read video file frame by frame, beginning and ending with a timestamp\n",
    "def read_video_segments(video_path,start_ms,end_ms,i):\n",
    "    vid = cv2.VideoCapture(video_path)\n",
    "    fps = vid.get(cv2.CAP_PROP_FPS)\n",
    "    start_frame=int((start_ms/1000.0)*fps)\n",
    "    end_frame=int((end_ms/1000.0)*fps)\n",
    "    vid_length=0\n",
    "    with tqdm(total=end_frame-start_frame+1) as pbar: #init the progressbar,with max length of the given segment\n",
    "        vid.set(cv2.CAP_PROP_POS_FRAMES,start_frame)\n",
    "        while(vid.isOpened()):\n",
    "            ret, frame = vid.read() # if ret is false, frame has no content\n",
    "            if (vid_length+start_frame)==end_frame:\n",
    "                pbar.update(1)\n",
    "                break\n",
    "            path='../test_frames/'\n",
    "            name=str(i)+'__'+str(start_frame+vid_length)+'.png'\n",
    "            cv2.imwrite(path+name,frame)\n",
    "            pbar.update(1) #update the progressbar\n",
    "            vid_length+=1 #increase the vid_length counter"
   ]
  },
  {
   "cell_type": "code",
   "execution_count": 6,
   "metadata": {},
   "outputs": [],
   "source": [
    "def get_shots(azp):\n",
    "    zip_ref = zipfile.ZipFile(azp)\n",
    "    inxmlstr = zip_ref.read('content.xml')\n",
    "    doc = xmltodict.parse(inxmlstr)\n",
    "    shots = []\n",
    "    for a in doc['package']['annotations']['annotation']:\n",
    "        if a['@type'] == '#Shot':\n",
    "            begin_ms = int(a['millisecond-fragment']['@begin'])\n",
    "            end_ms = int(a['millisecond-fragment']['@end'])\n",
    "\n",
    "            shots.append((begin_ms, end_ms))\n",
    "    return sorted(shots)"
   ]
  },
  {
   "cell_type": "code",
   "execution_count": 7,
   "metadata": {},
   "outputs": [],
   "source": [
    "shots=get_shots('azp/CompanyMen_v1.0-split-012-Bobby_being_angry.azp')"
   ]
  },
  {
   "cell_type": "code",
   "execution_count": 8,
   "metadata": {},
   "outputs": [
    {
     "name": "stderr",
     "output_type": "stream",
     "text": [
      "100%|██████████| 93/93 [00:01<00:00, 59.66it/s]\n",
      "100%|██████████| 131/131 [00:02<00:00, 55.40it/s]\n",
      "100%|██████████| 27/27 [00:00<00:00, 46.02it/s]\n",
      "100%|██████████| 53/53 [00:00<00:00, 57.47it/s]\n",
      "100%|██████████| 67/67 [00:01<00:00, 56.74it/s]\n",
      "100%|██████████| 42/42 [00:00<00:00, 51.88it/s]\n",
      "100%|██████████| 106/106 [00:01<00:00, 61.92it/s]\n",
      "100%|██████████| 41/41 [00:00<00:00, 57.01it/s]\n",
      "100%|██████████| 142/142 [00:02<00:00, 51.98it/s]\n",
      "100%|██████████| 56/56 [00:01<00:00, 41.50it/s]\n",
      "100%|██████████| 38/38 [00:00<00:00, 46.61it/s]\n",
      "100%|██████████| 59/59 [00:01<00:00, 45.07it/s]\n",
      "100%|██████████| 60/60 [00:01<00:00, 44.58it/s]\n",
      "100%|██████████| 84/84 [00:01<00:00, 48.85it/s]\n",
      "100%|██████████| 51/51 [00:01<00:00, 46.63it/s]\n",
      "100%|██████████| 62/62 [00:01<00:00, 42.17it/s]\n",
      "100%|██████████| 38/38 [00:00<00:00, 43.94it/s]\n",
      "100%|██████████| 38/38 [00:00<00:00, 54.29it/s]\n",
      "100%|██████████| 59/59 [00:01<00:00, 53.72it/s]\n",
      "100%|██████████| 160/160 [00:03<00:00, 49.77it/s]\n",
      "100%|██████████| 46/46 [00:01<00:00, 42.31it/s]\n",
      "100%|██████████| 52/52 [00:01<00:00, 45.69it/s]\n",
      "100%|██████████| 189/189 [00:03<00:00, 52.62it/s]\n",
      "100%|██████████| 215/215 [00:04<00:00, 47.28it/s]\n",
      "100%|██████████| 166/166 [00:03<00:00, 44.62it/s]\n",
      "100%|██████████| 80/80 [00:01<00:00, 41.44it/s]\n",
      "100%|██████████| 131/131 [00:02<00:00, 46.34it/s]\n",
      "100%|██████████| 468/468 [00:09<00:00, 47.23it/s]\n",
      "100%|██████████| 381/381 [00:08<00:00, 45.47it/s]\n",
      "100%|██████████| 130/130 [00:02<00:00, 46.58it/s]\n",
      "100%|██████████| 48/48 [00:01<00:00, 44.16it/s]\n",
      "100%|██████████| 165/165 [00:03<00:00, 52.17it/s]\n",
      "100%|██████████| 59/59 [00:01<00:00, 47.21it/s]\n",
      "100%|██████████| 35/35 [00:00<00:00, 48.12it/s]\n",
      "100%|██████████| 58/58 [00:01<00:00, 48.78it/s]\n",
      "100%|██████████| 184/184 [00:03<00:00, 51.28it/s]\n",
      "100%|██████████| 59/59 [00:01<00:00, 46.51it/s]\n",
      "100%|██████████| 61/61 [00:01<00:00, 48.65it/s]\n",
      "100%|██████████| 41/41 [00:00<00:00, 47.48it/s]\n",
      "100%|██████████| 53/53 [00:01<00:00, 50.91it/s]\n",
      "100%|██████████| 29/29 [00:00<00:00, 47.50it/s]\n",
      "100%|██████████| 39/39 [00:00<00:00, 50.16it/s]\n",
      "100%|██████████| 39/39 [00:00<00:00, 50.53it/s]\n",
      "100%|██████████| 23/23 [00:00<00:00, 47.43it/s]\n",
      "100%|██████████| 52/52 [00:01<00:00, 49.77it/s]\n",
      "100%|██████████| 72/72 [00:01<00:00, 51.88it/s]\n",
      "100%|██████████| 30/30 [00:00<00:00, 46.23it/s]\n",
      "100%|██████████| 28/28 [00:00<00:00, 51.48it/s]\n",
      "100%|██████████| 79/79 [00:01<00:00, 46.25it/s]\n",
      "100%|██████████| 166/166 [00:03<00:00, 50.95it/s]\n"
     ]
    }
   ],
   "source": [
    "# for i,(begin,end) in enumerate(shots):\n",
    "#     read_video_segments('../Wells_John_CompanyMen_full.mp4',begin,end,i)"
   ]
  },
  {
   "cell_type": "code",
   "execution_count": null,
   "metadata": {},
   "outputs": [],
   "source": [
    "min(all_distances['distance'])"
   ]
  },
  {
   "cell_type": "code",
   "execution_count": null,
   "metadata": {},
   "outputs": [],
   "source": [
    "all_distances['distance'][np.argmin(all_distances['distance'])]"
   ]
  },
  {
   "cell_type": "code",
   "execution_count": null,
   "metadata": {},
   "outputs": [],
   "source": [
    "NASNetMobile_model = NASNetLarge(weights='imagenet', include_top=False,pooling='max',input_shape=(331,331,3))  "
   ]
  },
  {
   "cell_type": "code",
   "execution_count": null,
   "metadata": {},
   "outputs": [],
   "source": [
    "vgg_model = VGG16(weights='imagenet', include_top=False,pooling='max')"
   ]
  },
  {
   "cell_type": "code",
   "execution_count": null,
   "metadata": {},
   "outputs": [],
   "source": [
    "img_path = 'comparison_4.png'\n",
    "img = image.load_img(img_path, target_size=(224, 224))\n",
    "x = image.img_to_array(img)"
   ]
  },
  {
   "cell_type": "code",
   "execution_count": null,
   "metadata": {},
   "outputs": [],
   "source": [
    "x = np.expand_dims(x, axis=0)\n",
    "x = preprocess_input(x)\n",
    "\n",
    "features = vgg_model.predict(x)\n",
    "print(np.shape(features))"
   ]
  },
  {
   "cell_type": "code",
   "execution_count": null,
   "metadata": {},
   "outputs": [],
   "source": [
    "from scipy.spatial.distance import euclidean"
   ]
  },
  {
   "cell_type": "code",
   "execution_count": null,
   "metadata": {},
   "outputs": [],
   "source": [
    "euclidean(features,features)"
   ]
  }
 ],
 "metadata": {
  "kernelspec": {
   "display_name": "Python 3",
   "language": "python",
   "name": "python3"
  },
  "language_info": {
   "codemirror_mode": {
    "name": "ipython",
    "version": 3
   },
   "file_extension": ".py",
   "mimetype": "text/x-python",
   "name": "python",
   "nbconvert_exporter": "python",
   "pygments_lexer": "ipython3",
   "version": "3.6.7"
  }
 },
 "nbformat": 4,
 "nbformat_minor": 2
}
