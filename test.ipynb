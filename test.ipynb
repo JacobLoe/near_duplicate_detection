{
 "cells": [
  {
   "cell_type": "code",
   "execution_count": 1,
   "metadata": {},
   "outputs": [
    {
     "data": {
      "text/html": [
       "<style>.container { width:100% !important; }</style>"
      ],
      "text/plain": [
       "<IPython.core.display.HTML object>"
      ]
     },
     "metadata": {},
     "output_type": "display_data"
    }
   ],
   "source": [
    "from IPython.core.display import display, HTML\n",
    "display(HTML(\"<style>.container { width:100% !important; }</style>\"))"
   ]
  },
  {
   "cell_type": "code",
   "execution_count": 4,
   "metadata": {},
   "outputs": [],
   "source": [
    "import cv2\n",
    "import numpy as np"
   ]
  },
  {
   "cell_type": "code",
   "execution_count": 2,
   "metadata": {},
   "outputs": [
    {
     "name": "stderr",
     "output_type": "stream",
     "text": [
      "Using TensorFlow backend.\n"
     ]
    }
   ],
   "source": [
    "from keras.preprocessing import image\n",
    "from keras.applications.inception_v3 import InceptionV3\n",
    "from keras.applications.inception_v3 import preprocess_input\n",
    "from keras.models import Model"
   ]
  },
  {
   "cell_type": "code",
   "execution_count": 5,
   "metadata": {},
   "outputs": [],
   "source": [
    "image2 = cv2.imread('image2.jpg')\n",
    "image2 = np.array(image2,dtype='float32')\n",
    "image2 = np.expand_dims(image2,axis=0)\n",
    "image2 = preprocess_input(image2)"
   ]
  },
  {
   "cell_type": "code",
   "execution_count": 6,
   "metadata": {},
   "outputs": [],
   "source": [
    "im1 = cv2.imread('../features_videos_inv3/Chatzistefanou_Aris_Debtocracy/shots/531960/531960.png')\n",
    "im1 = np.array(im1,dtype='float32')\n",
    "im1 = np.expand_dims(im1,axis=0)\n",
    "im1 = preprocess_input(im1)\n",
    "\n",
    "im2 = cv2.imread('../features_videos_inv3/Chatzistefanou_Aris_Debtocracy/shots/444040/444040.png')\n",
    "im2 = np.array(im2,dtype='float32')\n",
    "im2 = np.expand_dims(im2,axis=0)\n",
    "im2 = preprocess_input(im2)\n",
    "\n",
    "im3 = cv2.imread('../features_videos_inv3/Chatzistefanou_Aris_Debtocracy/shots/531960/531962.png')\n",
    "im3 = np.array(im3,dtype='float32')\n",
    "im3 = np.expand_dims(im3,axis=0)\n",
    "im3 = preprocess_input(im3)"
   ]
  },
  {
   "cell_type": "code",
   "execution_count": 8,
   "metadata": {},
   "outputs": [
    {
     "name": "stderr",
     "output_type": "stream",
     "text": [
      "/usr/lib/python3/dist-packages/ipykernel_launcher.py:2: UserWarning: Update your `Model` call to the Keras 2 API: `Model(inputs=Tensor(\"in..., outputs=Tensor(\"av...)`\n",
      "  \n"
     ]
    }
   ],
   "source": [
    "model = InceptionV3(weights='imagenet',input_shape=(224,224,3))\n",
    "model = Model(inputs=model.input,output=model.get_layer('avg_pool').output)"
   ]
  },
  {
   "cell_type": "code",
   "execution_count": null,
   "metadata": {},
   "outputs": [],
   "source": []
  }
 ],
 "metadata": {
  "kernelspec": {
   "display_name": "Python 3",
   "language": "python",
   "name": "python3"
  },
  "language_info": {
   "codemirror_mode": {
    "name": "ipython",
    "version": 3
   },
   "file_extension": ".py",
   "mimetype": "text/x-python",
   "name": "python",
   "nbconvert_exporter": "python",
   "pygments_lexer": "ipython3",
   "version": "3.6.7"
  }
 },
 "nbformat": 4,
 "nbformat_minor": 2
}
