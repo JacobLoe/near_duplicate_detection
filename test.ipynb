{
 "cells": [
  {
   "cell_type": "code",
   "execution_count": 1,
   "metadata": {},
   "outputs": [
    {
     "data": {
      "text/html": [
       "<style>.container { width:100% !important; }</style>"
      ],
      "text/plain": [
       "<IPython.core.display.HTML object>"
      ]
     },
     "metadata": {},
     "output_type": "display_data"
    }
   ],
   "source": [
    "from IPython.core.display import display, HTML\n",
    "display(HTML(\"<style>.container { width:100% !important; }</style>\"))"
   ]
  },
  {
   "cell_type": "code",
   "execution_count": 2,
   "metadata": {},
   "outputs": [
    {
     "name": "stderr",
     "output_type": "stream",
     "text": [
      "Using TensorFlow backend.\n"
     ]
    }
   ],
   "source": [
    "from keras.applications.vgg16 import VGG16\n",
    "from keras.preprocessing import image\n",
    "from keras.applications.vgg16 import preprocess_input\n",
    "import numpy as np"
   ]
  },
  {
   "cell_type": "code",
   "execution_count": 3,
   "metadata": {},
   "outputs": [],
   "source": [
    "import cv2\n",
    "import numpy as np\n",
    "import argparse\n",
    "import zipfile\n",
    "from tqdm import tqdm\n",
    "import os\n",
    "import xmltodict"
   ]
  },
  {
   "cell_type": "code",
   "execution_count": 4,
   "metadata": {},
   "outputs": [],
   "source": [
    "#read video file frame by frame, beginning and ending with a timestamp\n",
    "def read_video_segments(video_path,start_ms,end_ms,i):\n",
    "    vid = cv2.VideoCapture(video_path)\n",
    "    fps = vid.get(cv2.CAP_PROP_FPS)\n",
    "    start_frame=int((start_ms/1000.0)*fps)\n",
    "    end_frame=int((end_ms/1000.0)*fps)\n",
    "    vid_length=0\n",
    "    with tqdm(total=end_frame-start_frame+1) as pbar: #init the progressbar,with max length of the given segment\n",
    "        vid.set(cv2.CAP_PROP_POS_FRAMES,start_frame)\n",
    "        while(vid.isOpened()):\n",
    "            ret, frame = vid.read() # if ret is false, frame has no content\n",
    "            if (vid_length+start_frame)==end_frame:\n",
    "                pbar.update(1)\n",
    "                break\n",
    "            path='../test_frames/'\n",
    "            name=str(i)+'__'+str(start_frame+vid_length)+'.png'\n",
    "            cv2.imwrite(path+name,frame)\n",
    "            pbar.update(1) #update the progressbar\n",
    "            vid_length+=1 #increase the vid_length counter"
   ]
  },
  {
   "cell_type": "code",
   "execution_count": 5,
   "metadata": {},
   "outputs": [],
   "source": [
    "def get_shots(azp):\n",
    "    zip_ref = zipfile.ZipFile(azp)\n",
    "    inxmlstr = zip_ref.read('content.xml')\n",
    "    doc = xmltodict.parse(inxmlstr)\n",
    "    shots = []\n",
    "    for a in doc['package']['annotations']['annotation']:\n",
    "        if a['@type'] == '#Shot':\n",
    "            begin_ms = int(a['millisecond-fragment']['@begin'])\n",
    "            end_ms = int(a['millisecond-fragment']['@end'])\n",
    "\n",
    "            shots.append((begin_ms, end_ms))\n",
    "    return sorted(shots)"
   ]
  },
  {
   "cell_type": "code",
   "execution_count": 6,
   "metadata": {},
   "outputs": [],
   "source": [
    "# with open('test.txt','w') as f:\n",
    "#     print('asf',file=f)"
   ]
  },
  {
   "cell_type": "code",
   "execution_count": 8,
   "metadata": {},
   "outputs": [
    {
     "name": "stdout",
     "output_type": "stream",
     "text": [
      "David_Ed_Where_Do_We_Go_From_Here\n",
      "Her_bluray_Szene 11_25fps\n",
      "Maltsev_Sem_Occupy_Wall_Street\n"
     ]
    }
   ],
   "source": [
    "videos_path='videos/'\n",
    "features_path='features_videos/'\n",
    "\n",
    "for video in os.listdir(features_path):\n",
    "    if not os.path.isdir(features_path+video):\n",
    "        os.mkdir(features_path+video)\n",
    "    print(video)"
   ]
  },
  {
   "cell_type": "code",
   "execution_count": 17,
   "metadata": {},
   "outputs": [],
   "source": [
    "from pathlib import Path"
   ]
  },
  {
   "cell_type": "code",
   "execution_count": 28,
   "metadata": {},
   "outputs": [],
   "source": [
    "app_path=str(Path('shotdetect'))\n",
    "appname = os.path.basename(app_path)"
   ]
  },
  {
   "cell_type": "code",
   "execution_count": 31,
   "metadata": {},
   "outputs": [
    {
     "ename": "TypeError",
     "evalue": "'str' object is not callable",
     "output_type": "error",
     "traceback": [
      "\u001b[0;31m---------------------------------------------------------------------------\u001b[0m",
      "\u001b[0;31mTypeError\u001b[0m                                 Traceback (most recent call last)",
      "\u001b[0;32m<ipython-input-31-ac06d8d626a9>\u001b[0m in \u001b[0;36m<module>\u001b[0;34m()\u001b[0m\n\u001b[1;32m      1\u001b[0m \u001b[0;32mif\u001b[0m \u001b[0;32mnot\u001b[0m \u001b[0mos\u001b[0m\u001b[0;34m.\u001b[0m\u001b[0mpath\u001b[0m\u001b[0;34m.\u001b[0m\u001b[0mexists\u001b[0m\u001b[0;34m(\u001b[0m\u001b[0mapp_path\u001b[0m\u001b[0;34m)\u001b[0m\u001b[0;34m:\u001b[0m\u001b[0;34m\u001b[0m\u001b[0;34m\u001b[0m\u001b[0m\n\u001b[0;32m----> 2\u001b[0;31m     \u001b[0;32mraise\u001b[0m \u001b[0mException\u001b[0m\u001b[0;34m(\u001b[0m\u001b[0m_\u001b[0m\u001b[0;34m(\u001b[0m\u001b[0;34m\"The <b>%s</b> application does not seem to be installed. Please check that it is present and that its path is correctly specified in preferences.\"\u001b[0m \u001b[0;34m)\u001b[0m \u001b[0;34m%\u001b[0m \u001b[0mappname\u001b[0m\u001b[0;34m)\u001b[0m\u001b[0;34m\u001b[0m\u001b[0;34m\u001b[0m\u001b[0m\n\u001b[0m",
      "\u001b[0;31mTypeError\u001b[0m: 'str' object is not callable"
     ]
    }
   ],
   "source": [
    "if not os.path.exists(app_path):\n",
    "    raise Exception(_(\"The <b>%s</b> application does not seem to be installed. Please check that it is present and that its path is correctly specified in preferences.\" ) % appname)"
   ]
  },
  {
   "cell_type": "code",
   "execution_count": 30,
   "metadata": {},
   "outputs": [
    {
     "data": {
      "text/plain": [
       "'shotdetect'"
      ]
     },
     "execution_count": 30,
     "metadata": {},
     "output_type": "execute_result"
    }
   ],
   "source": [
    "appname"
   ]
  },
  {
   "cell_type": "code",
   "execution_count": null,
   "metadata": {},
   "outputs": [],
   "source": [
    "    def async_process_file(self, filename, end_callback):\n",
    "        appname = os.path.basename(self.app_path)\n",
    "        if not os.path.exists(self.app_path):\n",
    "            raise Exception(_(\"The <b>%s</b> application does not seem to be installed. Please check that it is present and that its path is correctly specified in preferences.\" ) % appname)\n",
    "        if not os.path.exists(filename):\n",
    "            raise Exception(_(\"The file %s does not seem to exist.\") % filename)\n",
    "\n",
    "        self.app_setup(filename, end_callback)\n",
    "\n",
    "        argv = [ self.app_path ] + self.get_process_args(filename)\n",
    "\n",
    "        if config.data.os == 'win32':\n",
    "            import win32process\n",
    "            kw = { 'creationflags': win32process.CREATE_NO_WINDOW }\n",
    "        else:\n",
    "            kw = { 'preexec_fn': subprocess_setup }\n",
    "\n",
    "        try:\n",
    "            self.process = subprocess.Popen( argv,\n",
    "                                             bufsize=0,\n",
    "                                             shell=False,\n",
    "                                             stdout=subprocess.PIPE,\n",
    "                                             stderr=subprocess.PIPE,\n",
    "                                             **kw )\n",
    "        except OSError as e:\n",
    "            self.cleanup()\n",
    "            msg = str(e.args)\n",
    "            raise Exception(_(\"Could not run %(appname)s: %(msg)s\") % locals())\n",
    "\n",
    "        self.progress(.01, _(\"Processing %s\") % GObject.filename_display_name(filename))\n",
    "\n",
    "        def execute_process():\n",
    "            self.convert(self.iterator())\n",
    "            self.progress(.95, _(\"Cleaning up...\"))\n",
    "            self.cleanup()\n",
    "            self.progress(1.0)\n",
    "            end_callback()\n",
    "            return True\n",
    "\n",
    "        # Note: the \"proper\" way would be to use Gobject.io_add_watch,\n",
    "        # but last time I tried, this had cross-platform issues. The\n",
    "        # threading approach seems to work across platforms, so \"if it\n",
    "        # ain't broke, don't fix it\".\n",
    "        t=threading.Thread(target=execute_process)\n",
    "        t.start()\n",
    "        return self.package"
   ]
  },
  {
   "cell_type": "code",
   "execution_count": null,
   "metadata": {},
   "outputs": [],
   "source": []
  },
  {
   "cell_type": "code",
   "execution_count": 32,
   "metadata": {},
   "outputs": [],
   "source": [
    "import xml.etree.ElementTree as ET\n",
    "def read_shotdetect_xml(path):\n",
    "    tree = ET.parse(path)\n",
    "    root=tree.getroot().findall('content')\n",
    "    info={}\n",
    "    timestamps=[]\n",
    "    for child in root[0].iter():\n",
    "    #     if child.tag == 'media':\n",
    "    #         for grandchild in child.iter():\n",
    "    #             if grandchild.tag == 'fps':\n",
    "    #                 info['fps']=float(grandchild.text)\n",
    "    #             if grandchild.tag == 'height':\n",
    "    #                 info['resolution']=[int(grandchild.text)]\n",
    "    #             if grandchild.tag == 'width':\n",
    "    #                 info['resolution'].append(int(grandchild.text))\n",
    "        if child.tag == 'shot':\n",
    "            items=child.items()\n",
    "            print(items)\n",
    "            timestamps.append((int(items[4][1]),int(items[4][1])+int(items[2][1])-1))\n",
    "            break\n",
    "    return timestamps#,info"
   ]
  },
  {
   "cell_type": "code",
   "execution_count": 33,
   "metadata": {},
   "outputs": [
    {
     "name": "stdout",
     "output_type": "stream",
     "text": [
      "[('id', '0'), ('fduration', '7'), ('msduration', '291'), ('fbegin', '0'), ('msbegin', '0')]\n"
     ]
    },
    {
     "data": {
      "text/plain": [
       "[(0, 290)]"
      ]
     },
     "execution_count": 33,
     "metadata": {},
     "output_type": "execute_result"
    }
   ],
   "source": [
    "read_shotdetect_xml('tests/shot_detect4/result.xml')"
   ]
  },
  {
   "cell_type": "code",
   "execution_count": null,
   "metadata": {},
   "outputs": [],
   "source": []
  }
 ],
 "metadata": {
  "kernelspec": {
   "display_name": "Python 3",
   "language": "python",
   "name": "python3"
  },
  "language_info": {
   "codemirror_mode": {
    "name": "ipython",
    "version": 3
   },
   "file_extension": ".py",
   "mimetype": "text/x-python",
   "name": "python",
   "nbconvert_exporter": "python",
   "pygments_lexer": "ipython3",
   "version": "3.6.7"
  }
 },
 "nbformat": 4,
 "nbformat_minor": 2
}
